{
 "cells": [
  {
   "metadata": {},
   "cell_type": "markdown",
   "source": "# From Seismic Waves to Neural Inference: A Hands-On Introduction to Simulation-Based Inference (SBI)",
   "id": "406947a351412180"
  },
  {
   "metadata": {},
   "cell_type": "markdown",
   "source": "## Installation and packages",
   "id": "e33b3033d8b644a5"
  },
  {
   "cell_type": "code",
   "id": "initial_id",
   "metadata": {
    "collapsed": true,
    "ExecuteTime": {
     "end_time": "2025-10-08T12:31:35.181103Z",
     "start_time": "2025-10-08T12:31:33.717022Z"
    }
   },
   "source": "!pip install git+https://github.com/nschaetti/CompEarth_Workshop.git",
   "outputs": [
    {
     "name": "stdout",
     "output_type": "stream",
     "text": [
      "Collecting git+https://github.com/nschaetti/CompEarth_Workshop.git\r\n",
      "  Cloning https://github.com/nschaetti/CompEarth_Workshop.git to /tmp/pip-req-build-_iy_c0_w\r\n",
      "  Running command git clone --filter=blob:none --quiet https://github.com/nschaetti/CompEarth_Workshop.git /tmp/pip-req-build-_iy_c0_w\r\n",
      "  Resolved https://github.com/nschaetti/CompEarth_Workshop.git to commit 0197e1a9f68e7885be3f030b62cdaad7cb893a00\r\n",
      "\u001B[31mERROR: git+https://github.com/nschaetti/CompEarth_Workshop.git does not appear to be a Python project: neither 'setup.py' nor 'pyproject.toml' found.\u001B[0m\u001B[31m\r\n",
      "\u001B[0m"
     ]
    }
   ],
   "execution_count": 2
  },
  {
   "metadata": {},
   "cell_type": "markdown",
   "source": "## Introduction — The Inverse Problem in Earth Sciences",
   "id": "1d86d4a430268c70"
  },
  {
   "metadata": {},
   "cell_type": "markdown",
   "source": "### Understanding the inverse problem",
   "id": "db7495f24670272c"
  },
  {
   "metadata": {},
   "cell_type": "code",
   "outputs": [],
   "execution_count": null,
   "source": "",
   "id": "9d97d88d33903db8"
  },
  {
   "metadata": {},
   "cell_type": "markdown",
   "source": "### The Bayesian view",
   "id": "5d26786adadd11ce"
  },
  {
   "metadata": {},
   "cell_type": "code",
   "outputs": [],
   "execution_count": null,
   "source": "",
   "id": "b783a3e99ad1c55a"
  },
  {
   "metadata": {},
   "cell_type": "markdown",
   "source": "### Why Simulation-Based Inference (SBI)?",
   "id": "a4c7d0954cc1bca3"
  },
  {
   "metadata": {},
   "cell_type": "code",
   "outputs": [],
   "execution_count": null,
   "source": "",
   "id": "a1a11caa296fdcb3"
  },
  {
   "metadata": {},
   "cell_type": "markdown",
   "source": "### What you will learn today",
   "id": "474df41690be4b3a"
  },
  {
   "metadata": {},
   "cell_type": "code",
   "outputs": [],
   "execution_count": null,
   "source": "",
   "id": "74cb51da678b2b62"
  },
  {
   "metadata": {},
   "cell_type": "markdown",
   "source": "## The Forward Model — Simulating Surface Wave Dispersion",
   "id": "7fad6a51ab2d672f"
  },
  {
   "metadata": {},
   "cell_type": "markdown",
   "source": "### Physical background",
   "id": "4440f728c8203a72"
  },
  {
   "metadata": {},
   "cell_type": "code",
   "outputs": [],
   "execution_count": null,
   "source": "",
   "id": "2c7292cbad795d6b"
  },
  {
   "metadata": {},
   "cell_type": "markdown",
   "source": "### Using the simulator `surfdisp2k25`",
   "id": "5ce6e779146b8266"
  },
  {
   "metadata": {},
   "cell_type": "code",
   "outputs": [],
   "execution_count": null,
   "source": "",
   "id": "1a5ed418c8c56514"
  },
  {
   "metadata": {},
   "cell_type": "markdown",
   "source": "### Generating a small dataset",
   "id": "aaa5eae7fd3e5a57"
  },
  {
   "metadata": {},
   "cell_type": "code",
   "outputs": [],
   "execution_count": null,
   "source": "",
   "id": "d69f2872d41417cc"
  },
  {
   "metadata": {},
   "cell_type": "markdown",
   "source": "## Learning the Inverse Model — Neural Posterior Estimation (NPE)",
   "id": "3f9f6483aa402fef"
  },
  {
   "metadata": {},
   "cell_type": "markdown",
   "source": "### Conceptual overview",
   "id": "edce9bfc39526c15"
  },
  {
   "metadata": {},
   "cell_type": "code",
   "outputs": [],
   "execution_count": null,
   "source": "",
   "id": "62c08fb338eebf3a"
  },
  {
   "metadata": {},
   "cell_type": "markdown",
   "source": "### Setting up the SBI pipeline",
   "id": "77cef879e36cf6d9"
  },
  {
   "metadata": {},
   "cell_type": "code",
   "outputs": [],
   "execution_count": null,
   "source": "",
   "id": "78e9f2e0af5cfc8c"
  },
  {
   "metadata": {},
   "cell_type": "markdown",
   "source": "### Visualizing the learned posterior",
   "id": "b33cfdecbccce36c"
  },
  {
   "metadata": {},
   "cell_type": "code",
   "outputs": [],
   "execution_count": null,
   "source": "",
   "id": "13fd2b24364695ee"
  },
  {
   "metadata": {},
   "cell_type": "markdown",
   "source": "## Working with Pre-Trained Models",
   "id": "e452a9a2cabe34e9"
  },
  {
   "metadata": {},
   "cell_type": "markdown",
   "source": "### Motivation",
   "id": "3ba94ccc39f9868c"
  },
  {
   "metadata": {},
   "cell_type": "code",
   "outputs": [],
   "execution_count": null,
   "source": "",
   "id": "b119380ca45c74a3"
  },
  {
   "metadata": {},
   "cell_type": "markdown",
   "source": "### Loading a pre-trained model",
   "id": "a52a4a2d654dce75"
  },
  {
   "metadata": {},
   "cell_type": "code",
   "outputs": [],
   "execution_count": null,
   "source": "",
   "id": "9f213c37a3ee39ac"
  },
  {
   "metadata": {},
   "cell_type": "markdown",
   "source": "### Sampling and visualization",
   "id": "2895dca4a2d36c58"
  },
  {
   "metadata": {},
   "cell_type": "code",
   "outputs": [],
   "execution_count": null,
   "source": "",
   "id": "69d5bab156eaa5b9"
  },
  {
   "metadata": {},
   "cell_type": "markdown",
   "source": "## Model Validation and Diagnostics",
   "id": "b9094bc9c795bab5"
  },
  {
   "metadata": {},
   "cell_type": "markdown",
   "source": "### Posterior Predictive Check (PPC)",
   "id": "d5ea815c2a27ed71"
  },
  {
   "metadata": {},
   "cell_type": "code",
   "outputs": [],
   "execution_count": null,
   "source": "",
   "id": "66ae323f7e109eeb"
  },
  {
   "metadata": {},
   "cell_type": "markdown",
   "source": "### Misfit distributions",
   "id": "be81878d52bb9b63"
  },
  {
   "metadata": {},
   "cell_type": "code",
   "outputs": [],
   "execution_count": null,
   "source": "",
   "id": "5da467248498b424"
  },
  {
   "metadata": {},
   "cell_type": "markdown",
   "source": "### Expected Coverage and Calibration",
   "id": "295f216fdfcbd22"
  },
  {
   "metadata": {},
   "cell_type": "code",
   "outputs": [],
   "execution_count": null,
   "source": "",
   "id": "de883aa03188ce5a"
  },
  {
   "metadata": {},
   "cell_type": "markdown",
   "source": "### Simulation-Based Calibration (SBC)",
   "id": "767689836833c609"
  },
  {
   "metadata": {},
   "cell_type": "code",
   "outputs": [],
   "execution_count": null,
   "source": "",
   "id": "4bb3db3b6fa75f18"
  },
  {
   "metadata": {},
   "cell_type": "markdown",
   "source": "### Visual summary",
   "id": "45a1808f3d9730b2"
  },
  {
   "metadata": {},
   "cell_type": "code",
   "outputs": [],
   "execution_count": null,
   "source": "",
   "id": "6c5982aaf4c0b19d"
  }
 ],
 "metadata": {
  "kernelspec": {
   "display_name": "Python 3",
   "language": "python",
   "name": "python3"
  },
  "language_info": {
   "codemirror_mode": {
    "name": "ipython",
    "version": 2
   },
   "file_extension": ".py",
   "mimetype": "text/x-python",
   "name": "python",
   "nbconvert_exporter": "python",
   "pygments_lexer": "ipython2",
   "version": "2.7.6"
  }
 },
 "nbformat": 4,
 "nbformat_minor": 5
}
